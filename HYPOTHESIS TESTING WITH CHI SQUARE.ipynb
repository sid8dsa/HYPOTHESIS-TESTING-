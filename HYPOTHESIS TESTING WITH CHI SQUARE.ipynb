{
 "cells": [
  {
   "cell_type": "code",
   "execution_count": 1,
   "id": "74310d25",
   "metadata": {},
   "outputs": [],
   "source": [
    "import pandas as pd\n",
    "import numpy as np\n",
    "import statistics as stat\n",
    "import matplotlib.pyplot as plt\n",
    "import seaborn as sn\n",
    "import scipy.stats as stats"
   ]
  },
  {
   "cell_type": "markdown",
   "id": "e4b97d99",
   "metadata": {},
   "source": [
    "Background:\n",
    "Bombay hospitality Ltd. operates a franchise model for producing exotic Norwegian dinners throughout New England. The operating cost for a franchise in a week (W) is given by the equation W = $1,000 + $5X, where X represents the number of units produced in a week. Recent feedback from restaurant owners suggests that this cost model may no longer be accurate, as their observed weekly operating costs are higher.\n",
    "\n",
    "Objective:\n",
    "To investigate the restaurant owners' claim about the increase in weekly operating costs using hypothesis testing.\n",
    "\n",
    "\n",
    "Data Provided:\n",
    "•\tThe theoretical weekly operating cost model: W = $1,000 + $5X\n",
    "\n",
    "•\tSample of 25 restaurants with a mean weekly cost of Rs. 3,050\n",
    "\n",
    "•\tNumber of units produced in a week (X) follows a normal distribution with a mean (μ) of 600 units and a standard deviation (σ) of 25 units\n",
    "\n",
    "\n",
    "Assignment Tasks:\n",
    "1. State the Hypotheses statement:\n",
    "2. Calculate the Test Statistic:\n",
    "Use the following formula to calculate the test statistic (t):\n",
    "where:\n",
    "•\tˉxˉ = sample mean weekly cost (Rs. 3,050)\n",
    "•\tμ = theoretical mean weekly cost according to the cost model (W = $1,000 + $5X for X = 600 units)\n",
    "•\tσ = 5*25 units\n",
    "•\tn = sample size (25 restaurants)\n",
    "3. Determine the Critical Value:\n",
    "Using the alpha level of 5% (α = 0.05), determine the critical value from the standard normal (Z) distribution table.\n",
    "4. Make a Decision:\n",
    "Compare the test statistic with the critical value to decide whether to reject the null hypothesis.\n",
    "5. Conclusion:\n",
    "Based on the decision in step 4, conclude whether there is strong evidence to support the restaurant owners' claim that the weekly operating costs are higher than the model suggests.\n"
   ]
  },
  {
   "cell_type": "markdown",
   "id": "dd45a42e",
   "metadata": {},
   "source": [
    "ANS - Here the hypothesis will be as follows \n",
    "\n",
    "H0 = Consider the cost model as accurate \n",
    "\n",
    "H1 = observed costs are not accurate to model"
   ]
  },
  {
   "cell_type": "code",
   "execution_count": 2,
   "id": "bf5f90b0",
   "metadata": {},
   "outputs": [
    {
     "name": "stdout",
     "output_type": "stream",
     "text": [
      "Test Statistic (t): -38.0\n",
      "Critical Value: 1.7108820799094275\n",
      "Fail to reject the null hypothesis.\n",
      "There is not enough evidence to support the claim that the weekly operating costs are higher than the model suggests.\n"
     ]
    }
   ],
   "source": [
    "sample_mean = 3050\n",
    "theoretical_mean = 1000 +(5*600) \n",
    "standard_deviation = 125\n",
    "sample_size = 25\n",
    "\n",
    "# Calculate the test statistic (t)\n",
    "test_statistic = (sample_mean - theoretical_mean) / (standard_deviation / np.sqrt(sample_size))\n",
    "print(\"Test Statistic (t):\", test_statistic)\n",
    "\n",
    "# Calculate the critical value for a one-tailed test at alpha = 0.05\n",
    "alpha = 0.05\n",
    "degrees_of_freedom = sample_size - 1\n",
    "critical_value = stats.t.ppf(1 - alpha, degrees_of_freedom)\n",
    "print(\"Critical Value:\", critical_value)\n",
    "\n",
    "# Conclusion based on the test statistic and critical value\n",
    "if test_statistic > critical_value:\n",
    "    print(\"Reject the null hypothesis.\")\n",
    "    print(\"There is strong evidence to support the claim that the weekly operating costs are higher than the model suggests.\")\n",
    "else:\n",
    "    print(\"Fail to reject the null hypothesis.\")\n",
    "    print(\"There is not enough evidence to support the claim that the weekly operating costs are higher than the model suggests.\")\n"
   ]
  },
  {
   "cell_type": "markdown",
   "id": "6787b89f",
   "metadata": {},
   "source": [
    "Association between Device Type and Customer Satisfaction\n",
    "Background:\n",
    "\n",
    "Mizzare Corporation has collected data on customer satisfaction levels for two types of smart home devices: Smart Thermostats and Smart Lights. They want to determine if there's a significant association between the type of device purchased and the customer's satisfaction level.\n",
    "Data Provided:\n",
    "\n",
    "The data is summarized in a contingency table showing the counts of customers in each satisfaction level for both types of devices:\n",
    "Satisfaction\tSmart Thermostat\tSmart Light\tTotal\n",
    "Very Satisfied\t50\t70\t120\n",
    "Satisfied\t80\t100\t180\n",
    "Neutral\t60\t90\t150\n",
    "Unsatisfied\t30\t50\t80\n",
    "Very Unsatisfied\t20\t50\t70\n",
    "Total\t240\t360\t600\n",
    "Objective:\n",
    "\n",
    "To use the Chi-Square test for independence to determine if there's a significant association between the type of smart home device purchased (Smart Thermostats vs. Smart Lights) and the customer satisfaction level.\n",
    "\n",
    "Assignment Tasks:\n",
    "1. State the Hypotheses:\n",
    "\n",
    "2. Compute the Chi-Square Statistic:\n",
    "\n",
    "3. Determine the Critical Value:\n",
    "\n",
    "Using the significance level (alpha) of 0.05 and the degrees of freedom (which is the number of categories minus 1)\n",
    "\n",
    "4. Make a Decision:\n",
    "\n",
    "Compare the Chi-Square statistic with the critical value to decide whether to reject the null hypothesis.\n"
   ]
  },
  {
   "cell_type": "markdown",
   "id": "584376dd",
   "metadata": {},
   "source": [
    "ANS -\n",
    "\n",
    "Null Hypothesis (H0): There is no significant association between the type of smart home device purchased and the customer satisfaction level.\n",
    "\n",
    "Alternative Hypothesis (H1): There is a significant association between the type of smart home device purchased and the customer satisfaction level."
   ]
  },
  {
   "cell_type": "code",
   "execution_count": 3,
   "id": "80a38e66",
   "metadata": {},
   "outputs": [],
   "source": [
    "from scipy.stats import chi2_contingency"
   ]
  },
  {
   "cell_type": "code",
   "execution_count": 9,
   "id": "d89e1c09",
   "metadata": {},
   "outputs": [
    {
     "name": "stdout",
     "output_type": "stream",
     "text": [
      "Chi-Square Statistic: 5.638227513227513\n",
      "Critical Value: 9.487729036781154\n",
      "Fail to reject the null hypothesis: There is no significant association between device type and customer satisfaction.\n"
     ]
    }
   ],
   "source": [
    "import numpy as np\n",
    "from scipy.stats import chi2_contingency\n",
    "from scipy.stats import chi2 \n",
    "observed = np.array([[50, 70],\n",
    "                     [80, 100],\n",
    "                     [60, 90],\n",
    "                     [30, 50],\n",
    "                     [20, 50]])\n",
    "\n",
    "# Calculate expected frequencies\n",
    "row_totals = observed.sum(axis=1)\n",
    "col_totals = observed.sum(axis=0)\n",
    "total = observed.sum()\n",
    "\n",
    "expected = np.outer(row_totals, col_totals) / total\n",
    "\n",
    "# Calculate Chi-Square statistic\n",
    "chi2_stat = np.sum((observed - expected)**2 / expected)\n",
    "print(\"Chi-Square Statistic:\", chi2_stat)\n",
    "#Next, we'll determine the critical value using the Chi-Square distribution with\n",
    "#the given significance level (alpha) and degrees of freedom (df).\n",
    "# Degrees of freedom\n",
    "df = (observed.shape[0] - 1) * (observed.shape[1] - 1)\n",
    "\n",
    "# Significance level\n",
    "alpha = 0.05\n",
    "\n",
    "# Critical value\n",
    "critical_value = chi2.ppf(1 - alpha, df)\n",
    "print(\"Critical Value:\", critical_value)\n",
    "#Finally, we'll make a decision based on whether the Chi-Square statistic is greater than the critical value\n",
    "# Make a decision\n",
    "if chi2_stat > critical_value:\n",
    "    print(\"Reject the null hypothesis: There is a significant association between device type and customer satisfaction.\")\n",
    "else:\n",
    "    print(\"Fail to reject the null hypothesis: There is no significant association between device type and customer satisfaction.\")\n"
   ]
  },
  {
   "cell_type": "code",
   "execution_count": null,
   "id": "d82a91de",
   "metadata": {},
   "outputs": [],
   "source": []
  }
 ],
 "metadata": {
  "kernelspec": {
   "display_name": "Python 3 (ipykernel)",
   "language": "python",
   "name": "python3"
  },
  "language_info": {
   "codemirror_mode": {
    "name": "ipython",
    "version": 3
   },
   "file_extension": ".py",
   "mimetype": "text/x-python",
   "name": "python",
   "nbconvert_exporter": "python",
   "pygments_lexer": "ipython3",
   "version": "3.11.5"
  }
 },
 "nbformat": 4,
 "nbformat_minor": 5
}
